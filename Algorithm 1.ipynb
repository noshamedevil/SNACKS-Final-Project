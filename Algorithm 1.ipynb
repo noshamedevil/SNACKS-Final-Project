{
 "cells": [
  {
   "cell_type": "markdown",
   "source": [
    "Random Node sampling"
   ],
   "metadata": {
    "collapsed": false
   },
   "id": "e6214712c6a6970f"
  },
  {
   "cell_type": "code",
   "execution_count": 49,
   "outputs": [],
   "source": [
    "import networkx as nx\n",
    "import random\n",
    "\n",
    "def sample_graph(input_file, output_file, sample_size):\n",
    "    # Read the network graph from the .txt file\n",
    "    G = nx.read_edgelist(input_file)\n",
    "\n",
    "    # Get a list of all nodes in the graph\n",
    "    all_nodes = list(G.nodes)\n",
    "\n",
    "    # Randomly select a subset of nodes based on the desired sample size\n",
    "    sampled_nodes = random.sample(all_nodes, min(sample_size, len(all_nodes)))\n",
    "\n",
    "    # Create a subgraph with only the sampled nodes\n",
    "    sampled_graph = G.subgraph(sampled_nodes)\n",
    "\n",
    "    # Save the sampled graph to a new .txt file without additional attributes\n",
    "    nx.write_edgelist(sampled_graph, output_file, data=False)\n",
    "\n",
    "if __name__ == \"__main__\":\n",
    "    # Specify the input and output file paths\n",
    "    input_file_path = \"soc-google-plus.txt\"\n",
    "    output_file_path = \"sampled_graph.txt\"\n",
    "\n",
    "    # Specify the desired sample size (number of nodes)\n",
    "    sample_size = 10000\n",
    "\n",
    "    # Call the function to sample the graph and save the result\n",
    "    sample_graph(input_file_path, output_file_path, sample_size)\n"
   ],
   "metadata": {
    "collapsed": false,
    "ExecuteTime": {
     "start_time": "2023-11-27T13:44:54.551038232Z"
    }
   },
   "id": "873ac82075924efa"
  },
  {
   "cell_type": "markdown",
   "source": [
    "Random Pagerank"
   ],
   "metadata": {
    "collapsed": false
   },
   "id": "b7b7ce7b4f9aa488"
  },
  {
   "cell_type": "code",
   "execution_count": 61,
   "outputs": [],
   "source": [
    "import networkx as nx\n",
    "import random\n",
    "\n",
    "def read_network(file_path):\n",
    "    # Read the network graph from the .txt file\n",
    "    G = nx.read_edgelist(file_path)\n",
    "    return G\n",
    "\n",
    "def run_pagerank(graph):\n",
    "    # Run PageRank on the graph\n",
    "    pagerank_scores = nx.pagerank(graph)\n",
    "    return pagerank_scores\n",
    "\n",
    "def sample_graph(graph, pagerank_scores, sample_size):\n",
    "    # Get a list of nodes sorted by PageRank scores\n",
    "    sorted_nodes = sorted(pagerank_scores, key=pagerank_scores.get, reverse=True)\n",
    "\n",
    "    # Randomly select a subset of nodes based on the desired sample size\n",
    "    sampled_nodes = random.sample(sorted_nodes, min(sample_size, len(graph)))\n",
    "\n",
    "    # Create a subgraph with only the sampled nodes\n",
    "    sampled_graph = graph.subgraph(sampled_nodes)\n",
    "\n",
    "    return sampled_graph\n",
    "\n",
    "if __name__ == \"__main__\":\n",
    "    # Specify the path to the input .txt file for the network\n",
    "    file_path = \"soc-google-plus.txt\"\n",
    "\n",
    "    # Read the network\n",
    "    network = read_network(file_path)\n",
    "\n",
    "    # Run PageRank\n",
    "    pagerank_scores = run_pagerank(network)\n",
    "\n",
    "    # Specify the desired sample size (number of nodes)\n",
    "    sample_size = 10000\n",
    "\n",
    "    # Sample the graph based on PageRank scores\n",
    "    sampled_graph = sample_graph(network, pagerank_scores, sample_size)\n",
    "\n",
    "    # Save the sampled graph to a new .txt file\n",
    "    nx.write_edgelist(sampled_graph, \"sampled_graph_pagerank.txt\")\n"
   ],
   "metadata": {
    "collapsed": false,
    "ExecuteTime": {
     "end_time": "2023-11-27T14:10:38.767790267Z",
     "start_time": "2023-11-27T14:10:30.169289595Z"
    }
   },
   "id": "a9f71254097ac62a"
  }
 ],
 "metadata": {
  "kernelspec": {
   "display_name": "Python 3",
   "language": "python",
   "name": "python3"
  },
  "language_info": {
   "codemirror_mode": {
    "name": "ipython",
    "version": 2
   },
   "file_extension": ".py",
   "mimetype": "text/x-python",
   "name": "python",
   "nbconvert_exporter": "python",
   "pygments_lexer": "ipython2",
   "version": "2.7.6"
  }
 },
 "nbformat": 4,
 "nbformat_minor": 5
}
