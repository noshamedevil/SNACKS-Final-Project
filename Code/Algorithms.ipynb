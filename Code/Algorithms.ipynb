{
 "cells": [
  {
   "cell_type": "markdown",
   "source": [
    "Random Node sampling"
   ],
   "metadata": {
    "collapsed": false
   },
   "id": "e6214712c6a6970f"
  },
  {
   "cell_type": "code",
   "execution_count": 4,
   "outputs": [
    {
     "name": "stdout",
     "output_type": "stream",
     "text": [
      "done working\n"
     ]
    }
   ],
   "source": [
    "import networkx as nx\n",
    "import random\n",
    "\n",
    "def sample_graph(input_file, output_file, sample_size):\n",
    "    # Read the network graph from the .txt file\n",
    "    G = nx.read_edgelist(input_file)\n",
    "\n",
    "    # Get a list of all nodes in the graph\n",
    "    all_nodes = list(G.nodes)\n",
    "\n",
    "    # Randomly select a subset of nodes based on the desired sample size\n",
    "    sampled_nodes = random.sample(all_nodes, min(sample_size, len(all_nodes)))\n",
    "\n",
    "    # Create a subgraph with only the sampled nodes\n",
    "    sampled_graph = G.subgraph(sampled_nodes)\n",
    "\n",
    "    # Save the sampled graph to a new .txt file without additional attributes\n",
    "    nx.write_edgelist(sampled_graph, output_file, data=False)\n",
    "\n",
    "if __name__ == \"__main__\":\n",
    "    # Specify the input and output file paths\n",
    "    input_file_path = \"/home/noshamedevil/Documents/Assignments/SNACKS/SNACKS-Final-Project/Original_Data/soc-google-plus.txt\"\n",
    "    output_file_path = \"/home/noshamedevil/Documents/Assignments/SNACKS/SNACKS-Final-Project/Sampled_Graphs/sampled_graph.txt\"\n",
    "\n",
    "    # Specify the desired sample size (number of nodes)\n",
    "    sample_size = 10000\n",
    "\n",
    "    # Call the function to sample the graph and save the result\n",
    "    sample_graph(input_file_path, output_file_path, sample_size)\n",
    "    print(\"done working\")"
   ],
   "metadata": {
    "collapsed": false,
    "ExecuteTime": {
     "end_time": "2023-11-29T22:05:43.869872896Z",
     "start_time": "2023-11-29T22:05:38.963340957Z"
    }
   },
   "id": "873ac82075924efa"
  },
  {
   "cell_type": "markdown",
   "source": [
    "Random Pagerank"
   ],
   "metadata": {
    "collapsed": false
   },
   "id": "b7b7ce7b4f9aa488"
  },
  {
   "cell_type": "code",
   "execution_count": 5,
   "outputs": [
    {
     "name": "stdout",
     "output_type": "stream",
     "text": [
      "done working\n"
     ]
    }
   ],
   "source": [
    "import networkx as nx\n",
    "import random\n",
    "\n",
    "def read_network(file_path):\n",
    "    # Read the network graph from the .txt file\n",
    "    G = nx.read_edgelist(file_path)\n",
    "    return G\n",
    "\n",
    "def run_pagerank(graph):\n",
    "    # Run PageRank on the graph\n",
    "    pagerank_scores = nx.pagerank(graph)\n",
    "    return pagerank_scores\n",
    "\n",
    "def sample_graph(graph, pagerank_scores, sample_size):\n",
    "    # Get a list of nodes sorted by PageRank scores\n",
    "    sorted_nodes = sorted(pagerank_scores, key=pagerank_scores.get, reverse=True)\n",
    "\n",
    "    # Randomly select a subset of nodes based on the desired sample size\n",
    "    sampled_nodes = random.sample(sorted_nodes, min(sample_size, len(graph)))\n",
    "\n",
    "    # Create a subgraph with only the sampled nodes\n",
    "    sampled_graph = graph.subgraph(sampled_nodes)\n",
    "\n",
    "    return sampled_graph\n",
    "\n",
    "if __name__ == \"__main__\":\n",
    "    # Specify the path to the input .txt file for the network\n",
    "    file_path = \"/home/noshamedevil//Documents/Assignments/SNACKS/SNACKS-Final-Project/Original_Data/soc-google-plus.txt\"\n",
    "\n",
    "    # Read the network\n",
    "    network = read_network(file_path)\n",
    "\n",
    "    # Run PageRank\n",
    "    pagerank_scores = run_pagerank(network)\n",
    "\n",
    "    # Specify the desired sample size (number of nodes)\n",
    "    sample_size = 10000\n",
    "\n",
    "    # Sample the graph based on PageRank scores\n",
    "    sampled_graph = sample_graph(network, pagerank_scores, sample_size)\n",
    "\n",
    "    # Save the sampled graph to a new .txt file\n",
    "    nx.write_edgelist(sampled_graph, \"/home/noshamedevil//Documents/Assignments/SNACKS/SNACKS-Final-Project/Sampled_Graphs/sampled_graph_pagerank.txt\")\n",
    "    print(\"done working\")"
   ],
   "metadata": {
    "collapsed": false,
    "ExecuteTime": {
     "end_time": "2023-11-29T22:05:51.610181932Z",
     "start_time": "2023-11-29T22:05:44.390861828Z"
    }
   },
   "id": "a9f71254097ac62a"
  },
  {
   "cell_type": "markdown",
   "source": [
    "Random Edge Selection"
   ],
   "metadata": {
    "collapsed": false
   },
   "id": "bfb87630b9cd9af6"
  },
  {
   "cell_type": "code",
   "execution_count": 6,
   "outputs": [
    {
     "name": "stdout",
     "output_type": "stream",
     "text": [
      "done working\n"
     ]
    }
   ],
   "source": [
    "import networkx as nx\n",
    "import random\n",
    "\n",
    "def read_network(file_path):\n",
    "    # Read the network graph from the .txt file\n",
    "    G = nx.read_edgelist(file_path)\n",
    "    return G\n",
    "\n",
    "def random_edge_sampling(graph, sampling_fraction):\n",
    "    # Get the list of edges\n",
    "    all_edges = list(graph.edges())\n",
    "\n",
    "    # Calculate the number of edges to sample\n",
    "    num_edges_to_sample = int(len(all_edges) * sampling_fraction)\n",
    "\n",
    "    # Randomly select edges based on the desired fraction\n",
    "    sampled_edges = random.sample(all_edges, num_edges_to_sample)\n",
    "\n",
    "    # Create a subgraph with only the sampled edges\n",
    "    sampled_graph = nx.Graph(sampled_edges)\n",
    "\n",
    "    return sampled_graph\n",
    "\n",
    "if __name__ == \"__main__\":\n",
    "    # Specify the path to the input .txt file for the network\n",
    "    file_path = \"/home/noshamedevil//Documents/Assignments/SNACKS/SNACKS-Final-Project/Original_Data/soc-google-plus.txt\"\n",
    "\n",
    "    # Read the network\n",
    "    network = read_network(file_path)\n",
    "\n",
    "    # Specify the sampling fraction (e.g., 0.1 for 10% sampling)\n",
    "    sampling_fraction = 0.15\n",
    "\n",
    "    # Perform random edge sampling\n",
    "    sampled_graph = random_edge_sampling(network, sampling_fraction)\n",
    "\n",
    "    # Save the sampled graph to a new .txt file\n",
    "    nx.write_edgelist(sampled_graph, \"/home/noshamedevil//Documents/Assignments/SNACKS/SNACKS-Final-Project/Sampled_Graphs/sampled_network_random_edge.txt\")\n",
    "    print(\"done working\")"
   ],
   "metadata": {
    "collapsed": false,
    "ExecuteTime": {
     "end_time": "2023-11-29T22:05:57.577942999Z",
     "start_time": "2023-11-29T22:05:51.610045109Z"
    }
   },
   "id": "b9eee4bf52c0e32b"
  },
  {
   "cell_type": "markdown",
   "source": [
    "Forest Fire"
   ],
   "metadata": {
    "collapsed": false
   },
   "id": "8e88ea26afd2bab"
  },
  {
   "cell_type": "code",
   "execution_count": 7,
   "outputs": [
    {
     "name": "stderr",
     "output_type": "stream",
     "text": [
      "/tmp/ipykernel_48900/1086055026.py:41: DeprecationWarning: Sampling from a set deprecated\n",
      "since Python 3.9 and will be removed in a subsequent version.\n",
      "  initial_nodes = random.sample(network.nodes(), 100)  # Example: Select 100 random nodes as initial nodes\n",
      "/tmp/ipykernel_48900/1086055026.py:24: DeprecationWarning: Sampling from a set deprecated\n",
      "since Python 3.9 and will be removed in a subsequent version.\n",
      "  sampled_neighbors = set(random.sample(neighbors, int(p_extend * len(neighbors))))\n",
      "/tmp/ipykernel_48900/1086055026.py:29: DeprecationWarning: Sampling from a set deprecated\n",
      "since Python 3.9 and will be removed in a subsequent version.\n",
      "  next_to_burn = set(random.sample(next_to_burn, int(p_burn * len(next_to_burn))))\n"
     ]
    },
    {
     "name": "stdout",
     "output_type": "stream",
     "text": [
      "done working\n"
     ]
    }
   ],
   "source": [
    "import networkx as nx\n",
    "import random\n",
    "\n",
    "def read_network(file_path):\n",
    "    # Read the network graph from the .txt file\n",
    "    G = nx.read_edgelist(file_path)\n",
    "    return G\n",
    "\n",
    "def forest_fire_sampling(graph, initial_nodes, depth_limit, p_burn, p_extend):\n",
    "    sampled_graph = nx.Graph()\n",
    "\n",
    "    burned_nodes = set()\n",
    "    next_to_burn = set(initial_nodes)\n",
    "\n",
    "    while next_to_burn and len(sampled_graph) < len(graph):\n",
    "        current_burning = set(next_to_burn)\n",
    "        next_to_burn = set()\n",
    "\n",
    "        for node in current_burning:\n",
    "            sampled_graph.add_node(node, **graph.nodes[node])\n",
    "            burned_nodes.add(node)\n",
    "\n",
    "            neighbors = set(graph.neighbors(node)) - burned_nodes\n",
    "            sampled_neighbors = set(random.sample(neighbors, int(p_extend * len(neighbors))))\n",
    "\n",
    "            sampled_graph.add_edges_from((node, neighbor) for neighbor in sampled_neighbors)\n",
    "            next_to_burn.update(sampled_neighbors)\n",
    "\n",
    "        next_to_burn = set(random.sample(next_to_burn, int(p_burn * len(next_to_burn))))\n",
    "\n",
    "    return sampled_graph\n",
    "\n",
    "if __name__ == \"__main__\":\n",
    "    # Specify the path to the input .txt file for the network\n",
    "    file_path = \"/home/noshamedevil//Documents/Assignments/SNACKS/SNACKS-Final-Project/Original_Data/soc-google-plus.txt\"\n",
    "\n",
    "    # Read the network\n",
    "    network = read_network(file_path)\n",
    "\n",
    "    # Specify forest fire sampling parameters\n",
    "    initial_nodes = random.sample(network.nodes(), 100)  # Example: Select 100 random nodes as initial nodes\n",
    "    depth_limit = 35\n",
    "    p_burn = 0.3  # Probability of an edge being burned\n",
    "    p_extend = 0.1  # Probability of extending the fire\n",
    "\n",
    "    # Perform forest fire sampling\n",
    "    sampled_graph = forest_fire_sampling(network, initial_nodes, depth_limit, p_burn, p_extend)\n",
    "\n",
    "    # Save the sampled graph to a new .txt file\n",
    "    nx.write_edgelist(sampled_graph, \"/home/noshamedevil//Documents/Assignments/SNACKS/SNACKS-Final-Project/Sampled_Graphs/sampled_forest_fire_network.txt\")\n",
    "    print(\"done working\")"
   ],
   "metadata": {
    "collapsed": false,
    "ExecuteTime": {
     "end_time": "2023-11-29T22:06:02.602859491Z",
     "start_time": "2023-11-29T22:05:57.576483669Z"
    }
   },
   "id": "f7f0f70c8ed27471"
  },
  {
   "cell_type": "markdown",
   "source": [
    "Random Walk Sampling"
   ],
   "metadata": {
    "collapsed": false
   },
   "id": "d6ac1cffb88db2f7"
  },
  {
   "cell_type": "code",
   "execution_count": 8,
   "outputs": [
    {
     "name": "stdout",
     "output_type": "stream",
     "text": [
      "done working\n"
     ]
    }
   ],
   "source": [
    "import networkx as nx\n",
    "import random\n",
    "\n",
    "def read_network(file_path):\n",
    "    # Read the network graph from the .txt file\n",
    "    G = nx.read_edgelist(file_path)\n",
    "    return G\n",
    "\n",
    "def random_walk_sampling(graph, start_node, steps):\n",
    "    sampled_nodes = [start_node]\n",
    "    current_node = start_node\n",
    "\n",
    "    for _ in range(steps):\n",
    "        neighbors = list(graph.neighbors(current_node))\n",
    "        if neighbors:\n",
    "            next_node = random.choice(neighbors)\n",
    "            sampled_nodes.append(next_node)\n",
    "            current_node = next_node\n",
    "        else:\n",
    "            break  # Break if the current node has no neighbors\n",
    "\n",
    "    sampled_graph = graph.subgraph(sampled_nodes)\n",
    "\n",
    "    return sampled_graph\n",
    "\n",
    "if __name__ == \"__main__\":\n",
    "    # Specify the path to the input .txt file for the network\n",
    "    file_path = \"/home/noshamedevil//Documents/Assignments/SNACKS/SNACKS-Final-Project/Original_Data/soc-google-plus.txt\"\n",
    "\n",
    "    # Read the network\n",
    "    network = read_network(file_path)\n",
    "\n",
    "    # Specify random walk sampling parameters\n",
    "    start_node = random.choice(list(network.nodes()))\n",
    "    steps = 1000  # Adjust the number of steps as needed\n",
    "\n",
    "    # Perform random walk sampling\n",
    "    sampled_graph = random_walk_sampling(network, start_node, steps)\n",
    "\n",
    "    # Save the sampled graph to a new .txt file\n",
    "    nx.write_edgelist(sampled_graph, \"/home/noshamedevil//Documents/Assignments/SNACKS/SNACKS-Final-Project/Sampled_Graphs/sampled_random_walk_network.txt\")\n",
    "    print(\"done working\")"
   ],
   "metadata": {
    "collapsed": false,
    "ExecuteTime": {
     "end_time": "2023-11-29T22:06:07.063665497Z",
     "start_time": "2023-11-29T22:06:02.635368150Z"
    }
   },
   "id": "f11749abf1883e44"
  }
 ],
 "metadata": {
  "kernelspec": {
   "display_name": "Python 3",
   "language": "python",
   "name": "python3"
  },
  "language_info": {
   "codemirror_mode": {
    "name": "ipython",
    "version": 2
   },
   "file_extension": ".py",
   "mimetype": "text/x-python",
   "name": "python",
   "nbconvert_exporter": "python",
   "pygments_lexer": "ipython2",
   "version": "2.7.6"
  }
 },
 "nbformat": 4,
 "nbformat_minor": 5
}
