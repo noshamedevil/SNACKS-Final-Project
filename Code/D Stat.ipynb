{
 "cells": [
  {
   "cell_type": "code",
   "execution_count": 3,
   "id": "initial_id",
   "metadata": {
    "collapsed": true,
    "ExecuteTime": {
     "end_time": "2023-11-29T22:07:57.618372035Z",
     "start_time": "2023-11-29T22:07:53.326011345Z"
    }
   },
   "outputs": [
    {
     "name": "stdout",
     "output_type": "stream",
     "text": [
      "KS Statistic: 0.18606409477906818\n"
     ]
    }
   ],
   "source": [
    "import networkx as nx\n",
    "from scipy.stats import ks_2samp\n",
    "\n",
    "def read_network(file_path):\n",
    "    # Read the network graph from the .txt file\n",
    "    G = nx.read_edgelist(file_path)\n",
    "    return G\n",
    "\n",
    "def calculate_ks_statistic(graph1, graph2):\n",
    "    degrees1 = list(dict(graph1.degree()).values())\n",
    "    degrees2 = list(dict(graph2.degree()).values())\n",
    "\n",
    "    ks_statistic, ks_p_value = ks_2samp(degrees1, degrees2)\n",
    "\n",
    "    return ks_statistic, ks_p_value\n",
    "\n",
    "if __name__ == \"__main__\":\n",
    "    # Specify the paths to the input .txt files for the networks\n",
    "    file_path1 = \"/home/noshamedevil//Documents/Assignments/SNACKS/SNACKS-Final-Project/Original_Data/soc-google-plus.txt\"\n",
    "    file_path2 = \"/home/noshamedevil//Documents/Assignments/SNACKS/SNACKS-Final-Project/Sampled_Graphs/sampled_forest_fire_network.txt\"\n",
    "\n",
    "    # Read the networks\n",
    "    network1 = read_network(file_path1)\n",
    "    network2 = read_network(file_path2)\n",
    "\n",
    "    # Calculate KS statistic\n",
    "    ks_statistic, ks_p_value = calculate_ks_statistic(network1, network2)\n",
    "\n",
    "    # Print the KS statistic and p-value\n",
    "    print(f\"KS Statistic: {ks_statistic}\")\n",
    "    \n"
   ]
  }
 ],
 "metadata": {
  "kernelspec": {
   "display_name": "Python 3",
   "language": "python",
   "name": "python3"
  },
  "language_info": {
   "codemirror_mode": {
    "name": "ipython",
    "version": 2
   },
   "file_extension": ".py",
   "mimetype": "text/x-python",
   "name": "python",
   "nbconvert_exporter": "python",
   "pygments_lexer": "ipython2",
   "version": "2.7.6"
  }
 },
 "nbformat": 4,
 "nbformat_minor": 5
}
